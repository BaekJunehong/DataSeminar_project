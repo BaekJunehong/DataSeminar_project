{
 "cells": [
  {
   "cell_type": "code",
   "execution_count": 2,
   "metadata": {},
   "outputs": [],
   "source": [
    "from sklearn.cluster import KMeans\n",
    "from sklearn.decomposition import PCA\n",
    "import matplotlib.pyplot as plt\n",
    "import pandas as pd"
   ]
  },
  {
   "cell_type": "code",
   "execution_count": 3,
   "metadata": {},
   "outputs": [],
   "source": [
    "df = pd.read_csv('./dog_data/labels.csv')\n",
    "train = \"./dog_data/train/\"\n",
    "test=\"./dog_data/test/\""
   ]
  },
  {
   "cell_type": "code",
   "execution_count": 4,
   "metadata": {},
   "outputs": [
    {
     "name": "stdout",
     "output_type": "stream",
     "text": [
      "Image Data Shape: (10222, 224, 224, 3)\n"
     ]
    }
   ],
   "source": [
    "from tensorflow.keras.preprocessing import image\n",
    "from tensorflow.keras.applications.vgg16 import preprocess_input\n",
    "import numpy as np\n",
    "import os\n",
    "# 이미지 경로 및 라벨 로드\n",
    "img_paths = [os.path.join(train, img_id + '.jpg') for img_id in df['id']]\n",
    "labels = df['breed'].values\n",
    "\n",
    "# 이미지 데이터를 숫자 배열로 변환\n",
    "def load_and_preprocess_image(img_path):\n",
    "    img = image.load_img(img_path, target_size=(224, 224))\n",
    "    img_array = image.img_to_array(img)\n",
    "    img_array = np.expand_dims(img_array, axis=0)\n",
    "    img_array = preprocess_input(img_array)\n",
    "    return img_array\n",
    "\n",
    "# 모든 이미지 데이터를 처리\n",
    "image_data = [load_and_preprocess_image(img_path) for img_path in img_paths]\n",
    "\n",
    "# 이미지 데이터를 numpy 배열로 변환\n",
    "image_data = np.vstack(image_data)\n",
    "\n",
    "# 이미지 데이터의 shape 확인\n",
    "print(\"Image Data Shape:\", image_data.shape)\n"
   ]
  },
  {
   "cell_type": "code",
   "execution_count": 5,
   "metadata": {},
   "outputs": [
    {
     "ename": "KeyboardInterrupt",
     "evalue": "",
     "output_type": "error",
     "traceback": [
      "\u001b[1;31m---------------------------------------------------------------------------\u001b[0m",
      "\u001b[1;31mKeyboardInterrupt\u001b[0m                         Traceback (most recent call last)",
      "File \u001b[1;32m<__array_function__ internals>:177\u001b[0m, in \u001b[0;36mwhere\u001b[1;34m(*args, **kwargs)\u001b[0m\n",
      "\u001b[1;31mKeyboardInterrupt\u001b[0m: "
     ]
    },
    {
     "name": "stderr",
     "output_type": "stream",
     "text": [
      "Exception ignored in: 'sklearn.cluster._k_means_common._relocate_empty_clusters_dense'\n",
      "Traceback (most recent call last):\n",
      "  File \"<__array_function__ internals>\", line 177, in where\n",
      "KeyboardInterrupt: \n"
     ]
    }
   ],
   "source": [
    "from sklearn.cluster import KMeans\n",
    "from sklearn.manifold import TSNE\n",
    "import matplotlib.pyplot as plt\n",
    "from sklearn.preprocessing import LabelEncoder\n",
    "\n",
    "# 이미지 데이터를 평탄화하여 2차원으로 변환\n",
    "image_data_flattened = image_data.reshape(image_data.shape[0], -1)\n",
    "\n",
    "# K-평균 클러스터링 수행\n",
    "n_clusters = 20  # 클러스터 갯수\n",
    "kmeans = KMeans(n_clusters=n_clusters, random_state=42, n_init=50)\n",
    "kmeans.fit(image_data_flattened)\n"
   ]
  },
  {
   "cell_type": "code",
   "execution_count": null,
   "metadata": {},
   "outputs": [
    {
     "ename": "NameError",
     "evalue": "name 'n_clusters' is not defined",
     "output_type": "error",
     "traceback": [
      "\u001b[1;31m---------------------------------------------------------------------------\u001b[0m",
      "\u001b[1;31mNameError\u001b[0m                                 Traceback (most recent call last)",
      "\u001b[1;32mc:\\Users\\baek\\Desktop\\23_2nd Semester\\데사 세미나\\DataSeminar_project\\project_similar_check.ipynb 셀 5\u001b[0m line \u001b[0;36m8\n\u001b[0;32m      <a href='vscode-notebook-cell:/c%3A/Users/baek/Desktop/23_2nd%20Semester/%EB%8D%B0%EC%82%AC%20%EC%84%B8%EB%AF%B8%EB%82%98/DataSeminar_project/project_similar_check.ipynb#W4sZmlsZQ%3D%3D?line=4'>5</a>\u001b[0m clustered_labels \u001b[39m=\u001b[39m []  \u001b[39m# 각 클러스터에 속한 모든 품종을 저장하기 위한 리스트\u001b[39;00m\n\u001b[0;32m      <a href='vscode-notebook-cell:/c%3A/Users/baek/Desktop/23_2nd%20Semester/%EB%8D%B0%EC%82%AC%20%EC%84%B8%EB%AF%B8%EB%82%98/DataSeminar_project/project_similar_check.ipynb#W4sZmlsZQ%3D%3D?line=5'>6</a>\u001b[0m selected_representatives \u001b[39m=\u001b[39m \u001b[39mset\u001b[39m()  \u001b[39m# 이미 선택된 대표 품종을 저장하기 위한 집합\u001b[39;00m\n\u001b[1;32m----> <a href='vscode-notebook-cell:/c%3A/Users/baek/Desktop/23_2nd%20Semester/%EB%8D%B0%EC%82%AC%20%EC%84%B8%EB%AF%B8%EB%82%98/DataSeminar_project/project_similar_check.ipynb#W4sZmlsZQ%3D%3D?line=7'>8</a>\u001b[0m \u001b[39mfor\u001b[39;00m cluster_id \u001b[39min\u001b[39;00m \u001b[39mrange\u001b[39m(n_clusters):\n\u001b[0;32m      <a href='vscode-notebook-cell:/c%3A/Users/baek/Desktop/23_2nd%20Semester/%EB%8D%B0%EC%82%AC%20%EC%84%B8%EB%AF%B8%EB%82%98/DataSeminar_project/project_similar_check.ipynb#W4sZmlsZQ%3D%3D?line=8'>9</a>\u001b[0m     cluster_indices \u001b[39m=\u001b[39m (kmeans\u001b[39m.\u001b[39mlabels_ \u001b[39m==\u001b[39m cluster_id)\n\u001b[0;32m     <a href='vscode-notebook-cell:/c%3A/Users/baek/Desktop/23_2nd%20Semester/%EB%8D%B0%EC%82%AC%20%EC%84%B8%EB%AF%B8%EB%82%98/DataSeminar_project/project_similar_check.ipynb#W4sZmlsZQ%3D%3D?line=9'>10</a>\u001b[0m     cluster_labels \u001b[39m=\u001b[39m labels[cluster_indices]\n",
      "\u001b[1;31mNameError\u001b[0m: name 'n_clusters' is not defined"
     ]
    }
   ],
   "source": [
    "from sklearn.manifold import TSNE\n",
    "\n",
    "# 각 클러스터의 대표 품종 선택\n",
    "representative_labels = []\n",
    "clustered_labels = []  # 각 클러스터에 속한 모든 품종을 저장하기 위한 리스트\n",
    "selected_representatives = set()  # 이미 선택된 대표 품종을 저장하기 위한 집합\n",
    "\n",
    "for cluster_id in range(n_clusters):\n",
    "    cluster_indices = (kmeans.labels_ == cluster_id)\n",
    "    cluster_labels = labels[cluster_indices]\n",
    "\n",
    "    # LabelEncoder를 사용하여 각 라벨을 정수로 변환\n",
    "    label_encoder = LabelEncoder()\n",
    "    cluster_labels_encoded = label_encoder.fit_transform(cluster_labels)\n",
    "\n",
    "    # 각 라벨의 가중치 계산 (예: 라벨별 데이터의 총 거리)\n",
    "    label_weights = np.sum((image_data_tsne[cluster_indices] - np.mean(image_data_tsne[cluster_indices], axis=0)) ** 2, axis=1)\n",
    "\n",
    "    # 이미 선택된 품종 중복 방지\n",
    "    valid_indices = [i for i, label in enumerate(cluster_labels) if label not in selected_representatives]\n",
    "    if valid_indices:\n",
    "        most_weighted_label_index = np.argmin(label_weights[valid_indices])\n",
    "        most_weighted_label = cluster_labels[valid_indices[most_weighted_label_index]]\n",
    "        representative_labels.append(most_weighted_label)\n",
    "        selected_representatives.add(most_weighted_label)\n",
    "    else:\n",
    "        # 이미 선택된 모든 품종이라면 빈 문자열로 대표를 설정\n",
    "        representative_labels.append(\"\")\n",
    "\n",
    "    # 각 클러스터에 속한 모든 품종을 리스트에 추가\n",
    "    clustered_labels.append(cluster_labels)\n",
    "\n",
    "# T-SNE를 사용하여 2차원으로 축소\n",
    "tsne = TSNE(n_components=2, random_state=42)\n",
    "image_data_tsne = tsne.fit_transform(image_data_flattened)\n",
    "\n",
    "# 각 클러스터에 속한 품종을 점으로 시각화\n",
    "plt.figure(figsize=(10, 6))\n",
    "for cluster_id in range(n_clusters):\n",
    "    cluster_indices = (kmeans.labels_ == cluster_id)\n",
    "    plt.scatter(image_data_tsne[cluster_indices, 0], image_data_tsne[cluster_indices, 1], label=f'Cluster {cluster_id}')\n",
    "\n",
    "# 각 클러스터의 대표 품종을 표시\n",
    "for label, xy in zip(representative_labels, image_data_tsne):\n",
    "    plt.annotate(f'Representative: {label}', xy=xy, fontsize=8, ha='right', va='bottom')\n",
    "\n",
    "plt.title('T-SNE Visualization of Clusters with Weighted Representative Selection')\n",
    "plt.legend()\n",
    "plt.show()\n"
   ]
  },
  {
   "cell_type": "code",
   "execution_count": null,
   "metadata": {},
   "outputs": [
    {
     "name": "stdout",
     "output_type": "stream",
     "text": [
      "Representative Labels:\n",
      "Cluster 0: irish_water_spaniel\n",
      "Cluster 1: saint_bernard\n",
      "Cluster 2: samoyed\n",
      "Cluster 3: golden_retriever\n",
      "Cluster 4: english_setter\n",
      "Cluster 5: great_pyrenees\n",
      "Cluster 6: afghan_hound\n",
      "Cluster 7: saluki\n",
      "Cluster 8: labrador_retriever\n",
      "Cluster 9: kerry_blue_terrier\n",
      "Cluster 10: cardigan\n",
      "Cluster 11: brittany_spaniel\n",
      "Cluster 12: border_terrier\n",
      "Cluster 13: appenzeller\n",
      "Cluster 14: doberman\n",
      "Cluster 15: old_english_sheepdog\n",
      "Cluster 16: border_terrier\n",
      "Cluster 17: miniature_schnauzer\n",
      "Cluster 18: miniature_schnauzer\n",
      "Cluster 19: whippet\n"
     ]
    }
   ],
   "source": [
    "# 대표 품종 리스트 출력\n",
    "print(\"Representative Labels:\")\n",
    "for cluster_id, label in enumerate(representative_labels):\n",
    "    print(f\"Cluster {cluster_id}: {label}\")\n"
   ]
  }
 ],
 "metadata": {
  "kernelspec": {
   "display_name": "Python 3",
   "language": "python",
   "name": "python3"
  },
  "language_info": {
   "codemirror_mode": {
    "name": "ipython",
    "version": 3
   },
   "file_extension": ".py",
   "mimetype": "text/x-python",
   "name": "python",
   "nbconvert_exporter": "python",
   "pygments_lexer": "ipython3",
   "version": "3.11.4"
  }
 },
 "nbformat": 4,
 "nbformat_minor": 2
}
